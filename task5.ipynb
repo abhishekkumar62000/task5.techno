{
 "cells": [
  {
   "cell_type": "code",
   "execution_count": 5,
   "metadata": {},
   "outputs": [],
   "source": [
    "import tkinter as tk\n",
    "\n",
    "def convert_temperature():\n",
    "    try:\n",
    "        temperature = float(entry.get())\n",
    "        if var.get() == 1:\n",
    "            result = (temperature - 32) * 5/9\n",
    "            label_result.config(text=f\"Celsius: {result:.2f}°C\")\n",
    "        else:\n",
    "            result = (temperature * 9/5) + 32\n",
    "            label_result.config(text=f\"Fahrenheit: {result:.2f}°F\")\n",
    "    except ValueError:\n",
    "        label_result.config(text=\"Invalid input!\")\n",
    "\n",
    "\n",
    "root = tk.Tk()\n",
    "root.title(\"Temperature Converter\")\n",
    "\n",
    "\n",
    "entry = tk.Entry(root, width=20)\n",
    "entry.pack()\n",
    "\n",
    "\n",
    "var = tk.IntVar()\n",
    "radio_fahrenheit = tk.Radiobutton(root, text=\"Fahrenheit to Celsius\", variable=var, value=1)\n",
    "radio_celsius = tk.Radiobutton(root, text=\"Celsius to Fahrenheit\", variable=var, value=2)\n",
    "radio_fahrenheit.pack()\n",
    "radio_celsius.pack()\n",
    "\n",
    "\n",
    "convert_button = tk.Button(root, text=\"Convert\", command=convert_temperature)\n",
    "convert_button.pack()\n",
    "\n",
    "label_result = tk.Label(root, text=\"\")\n",
    "label_result.pack()\n",
    "\n",
    "\n",
    "root.mainloop()"
   ]
  },
  {
   "cell_type": "code",
   "execution_count": null,
   "metadata": {},
   "outputs": [],
   "source": []
  }
 ],
 "metadata": {
  "kernelspec": {
   "display_name": "base",
   "language": "python",
   "name": "python3"
  },
  "language_info": {
   "codemirror_mode": {
    "name": "ipython",
    "version": 3
   },
   "file_extension": ".py",
   "mimetype": "text/x-python",
   "name": "python",
   "nbconvert_exporter": "python",
   "pygments_lexer": "ipython3",
   "version": "3.11.7"
  }
 },
 "nbformat": 4,
 "nbformat_minor": 2
}
